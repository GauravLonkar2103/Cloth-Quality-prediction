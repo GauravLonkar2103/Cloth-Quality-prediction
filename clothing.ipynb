{
 "cells": [
  {
   "cell_type": "code",
   "execution_count": 50,
   "id": "561c85c2-602f-462f-ada2-d75cf3a9d76b",
   "metadata": {},
   "outputs": [],
   "source": [
    "import pandas as pd\n",
    "import numpy as np\n",
    "import matplotlib.pyplot as plt\n",
    "import seaborn as sns"
   ]
  },
  {
   "cell_type": "code",
   "execution_count": 51,
   "id": "5fd731a1-e085-4460-b41c-f05f96c5bc96",
   "metadata": {},
   "outputs": [],
   "source": [
    "df=pd.read_json(\"cloth_yelp.json\",lines=True)"
   ]
  },
  {
   "cell_type": "code",
   "execution_count": 52,
   "id": "9b242689-424d-4d9a-a568-4ea912b6024d",
   "metadata": {},
   "outputs": [
    {
     "data": {
      "text/html": [
       "<div>\n",
       "<style scoped>\n",
       "    .dataframe tbody tr th:only-of-type {\n",
       "        vertical-align: middle;\n",
       "    }\n",
       "\n",
       "    .dataframe tbody tr th {\n",
       "        vertical-align: top;\n",
       "    }\n",
       "\n",
       "    .dataframe thead th {\n",
       "        text-align: right;\n",
       "    }\n",
       "</style>\n",
       "<table border=\"1\" class=\"dataframe\">\n",
       "  <thead>\n",
       "    <tr style=\"text-align: right;\">\n",
       "      <th></th>\n",
       "      <th>item_id</th>\n",
       "      <th>waist</th>\n",
       "      <th>size</th>\n",
       "      <th>quality</th>\n",
       "      <th>cup size</th>\n",
       "      <th>hips</th>\n",
       "      <th>bra size</th>\n",
       "      <th>category</th>\n",
       "      <th>bust</th>\n",
       "      <th>height</th>\n",
       "      <th>user_name</th>\n",
       "      <th>length</th>\n",
       "      <th>fit</th>\n",
       "      <th>user_id</th>\n",
       "      <th>shoe size</th>\n",
       "      <th>shoe width</th>\n",
       "      <th>review_summary</th>\n",
       "      <th>review_text</th>\n",
       "    </tr>\n",
       "  </thead>\n",
       "  <tbody>\n",
       "    <tr>\n",
       "      <th>0</th>\n",
       "      <td>123373</td>\n",
       "      <td>29.0</td>\n",
       "      <td>7</td>\n",
       "      <td>5.0</td>\n",
       "      <td>d</td>\n",
       "      <td>38.0</td>\n",
       "      <td>34.0</td>\n",
       "      <td>new</td>\n",
       "      <td>36</td>\n",
       "      <td>5ft 6in</td>\n",
       "      <td>Emily</td>\n",
       "      <td>just right</td>\n",
       "      <td>small</td>\n",
       "      <td>991571</td>\n",
       "      <td>NaN</td>\n",
       "      <td>NaN</td>\n",
       "      <td>NaN</td>\n",
       "      <td>NaN</td>\n",
       "    </tr>\n",
       "    <tr>\n",
       "      <th>1</th>\n",
       "      <td>123373</td>\n",
       "      <td>31.0</td>\n",
       "      <td>13</td>\n",
       "      <td>3.0</td>\n",
       "      <td>b</td>\n",
       "      <td>30.0</td>\n",
       "      <td>36.0</td>\n",
       "      <td>new</td>\n",
       "      <td>NaN</td>\n",
       "      <td>5ft 2in</td>\n",
       "      <td>sydneybraden2001</td>\n",
       "      <td>just right</td>\n",
       "      <td>small</td>\n",
       "      <td>587883</td>\n",
       "      <td>NaN</td>\n",
       "      <td>NaN</td>\n",
       "      <td>NaN</td>\n",
       "      <td>NaN</td>\n",
       "    </tr>\n",
       "    <tr>\n",
       "      <th>2</th>\n",
       "      <td>123373</td>\n",
       "      <td>30.0</td>\n",
       "      <td>7</td>\n",
       "      <td>2.0</td>\n",
       "      <td>b</td>\n",
       "      <td>NaN</td>\n",
       "      <td>32.0</td>\n",
       "      <td>new</td>\n",
       "      <td>NaN</td>\n",
       "      <td>5ft 7in</td>\n",
       "      <td>Ugggh</td>\n",
       "      <td>slightly long</td>\n",
       "      <td>small</td>\n",
       "      <td>395665</td>\n",
       "      <td>9.0</td>\n",
       "      <td>NaN</td>\n",
       "      <td>NaN</td>\n",
       "      <td>NaN</td>\n",
       "    </tr>\n",
       "    <tr>\n",
       "      <th>3</th>\n",
       "      <td>123373</td>\n",
       "      <td>NaN</td>\n",
       "      <td>21</td>\n",
       "      <td>5.0</td>\n",
       "      <td>dd/e</td>\n",
       "      <td>NaN</td>\n",
       "      <td>NaN</td>\n",
       "      <td>new</td>\n",
       "      <td>NaN</td>\n",
       "      <td>NaN</td>\n",
       "      <td>alexmeyer626</td>\n",
       "      <td>just right</td>\n",
       "      <td>fit</td>\n",
       "      <td>875643</td>\n",
       "      <td>NaN</td>\n",
       "      <td>NaN</td>\n",
       "      <td>NaN</td>\n",
       "      <td>NaN</td>\n",
       "    </tr>\n",
       "    <tr>\n",
       "      <th>4</th>\n",
       "      <td>123373</td>\n",
       "      <td>NaN</td>\n",
       "      <td>18</td>\n",
       "      <td>5.0</td>\n",
       "      <td>b</td>\n",
       "      <td>NaN</td>\n",
       "      <td>36.0</td>\n",
       "      <td>new</td>\n",
       "      <td>NaN</td>\n",
       "      <td>5ft 2in</td>\n",
       "      <td>dberrones1</td>\n",
       "      <td>slightly long</td>\n",
       "      <td>small</td>\n",
       "      <td>944840</td>\n",
       "      <td>NaN</td>\n",
       "      <td>NaN</td>\n",
       "      <td>NaN</td>\n",
       "      <td>NaN</td>\n",
       "    </tr>\n",
       "  </tbody>\n",
       "</table>\n",
       "</div>"
      ],
      "text/plain": [
       "   item_id  waist  size  quality cup size  hips  bra size category bust  \\\n",
       "0   123373   29.0     7      5.0        d  38.0      34.0      new   36   \n",
       "1   123373   31.0    13      3.0        b  30.0      36.0      new  NaN   \n",
       "2   123373   30.0     7      2.0        b   NaN      32.0      new  NaN   \n",
       "3   123373    NaN    21      5.0     dd/e   NaN       NaN      new  NaN   \n",
       "4   123373    NaN    18      5.0        b   NaN      36.0      new  NaN   \n",
       "\n",
       "    height         user_name         length    fit  user_id  shoe size  \\\n",
       "0  5ft 6in             Emily     just right  small   991571        NaN   \n",
       "1  5ft 2in  sydneybraden2001     just right  small   587883        NaN   \n",
       "2  5ft 7in             Ugggh  slightly long  small   395665        9.0   \n",
       "3      NaN      alexmeyer626     just right    fit   875643        NaN   \n",
       "4  5ft 2in        dberrones1  slightly long  small   944840        NaN   \n",
       "\n",
       "  shoe width review_summary review_text  \n",
       "0        NaN            NaN         NaN  \n",
       "1        NaN            NaN         NaN  \n",
       "2        NaN            NaN         NaN  \n",
       "3        NaN            NaN         NaN  \n",
       "4        NaN            NaN         NaN  "
      ]
     },
     "execution_count": 52,
     "metadata": {},
     "output_type": "execute_result"
    }
   ],
   "source": [
    "df.head()\n"
   ]
  },
  {
   "cell_type": "code",
   "execution_count": 53,
   "id": "193b662b-6c39-4201-8513-d9df3d5ff530",
   "metadata": {},
   "outputs": [
    {
     "data": {
      "text/plain": [
       "item_id               0\n",
       "waist             79908\n",
       "size                  0\n",
       "quality              68\n",
       "cup size           6255\n",
       "hips              26726\n",
       "bra size           6018\n",
       "category              0\n",
       "bust              70936\n",
       "height             1107\n",
       "user_name             0\n",
       "length               35\n",
       "fit                   0\n",
       "user_id               0\n",
       "shoe size         54875\n",
       "shoe width        64183\n",
       "review_summary     6725\n",
       "review_text        6725\n",
       "dtype: int64"
      ]
     },
     "execution_count": 53,
     "metadata": {},
     "output_type": "execute_result"
    }
   ],
   "source": [
    "df.isnull().sum()"
   ]
  },
  {
   "cell_type": "code",
   "execution_count": 54,
   "id": "09ddf045-c6dc-45a8-96bc-fb5920423d02",
   "metadata": {},
   "outputs": [],
   "source": [
    "df=df.drop([\"item_id\",\"waist\",\"review_summary\",\"review_text\",\"user_id\",\"user_name\"],axis=1)"
   ]
  },
  {
   "cell_type": "code",
   "execution_count": 55,
   "id": "086fdd11-79b3-4a98-9986-0b181036d111",
   "metadata": {},
   "outputs": [
    {
     "data": {
      "text/html": [
       "<div>\n",
       "<style scoped>\n",
       "    .dataframe tbody tr th:only-of-type {\n",
       "        vertical-align: middle;\n",
       "    }\n",
       "\n",
       "    .dataframe tbody tr th {\n",
       "        vertical-align: top;\n",
       "    }\n",
       "\n",
       "    .dataframe thead th {\n",
       "        text-align: right;\n",
       "    }\n",
       "</style>\n",
       "<table border=\"1\" class=\"dataframe\">\n",
       "  <thead>\n",
       "    <tr style=\"text-align: right;\">\n",
       "      <th></th>\n",
       "      <th>size</th>\n",
       "      <th>quality</th>\n",
       "      <th>cup size</th>\n",
       "      <th>hips</th>\n",
       "      <th>bra size</th>\n",
       "      <th>category</th>\n",
       "      <th>bust</th>\n",
       "      <th>height</th>\n",
       "      <th>length</th>\n",
       "      <th>fit</th>\n",
       "      <th>shoe size</th>\n",
       "      <th>shoe width</th>\n",
       "    </tr>\n",
       "  </thead>\n",
       "  <tbody>\n",
       "    <tr>\n",
       "      <th>0</th>\n",
       "      <td>7</td>\n",
       "      <td>5.0</td>\n",
       "      <td>d</td>\n",
       "      <td>38.0</td>\n",
       "      <td>34.0</td>\n",
       "      <td>new</td>\n",
       "      <td>36</td>\n",
       "      <td>5ft 6in</td>\n",
       "      <td>just right</td>\n",
       "      <td>small</td>\n",
       "      <td>NaN</td>\n",
       "      <td>NaN</td>\n",
       "    </tr>\n",
       "    <tr>\n",
       "      <th>1</th>\n",
       "      <td>13</td>\n",
       "      <td>3.0</td>\n",
       "      <td>b</td>\n",
       "      <td>30.0</td>\n",
       "      <td>36.0</td>\n",
       "      <td>new</td>\n",
       "      <td>NaN</td>\n",
       "      <td>5ft 2in</td>\n",
       "      <td>just right</td>\n",
       "      <td>small</td>\n",
       "      <td>NaN</td>\n",
       "      <td>NaN</td>\n",
       "    </tr>\n",
       "    <tr>\n",
       "      <th>2</th>\n",
       "      <td>7</td>\n",
       "      <td>2.0</td>\n",
       "      <td>b</td>\n",
       "      <td>NaN</td>\n",
       "      <td>32.0</td>\n",
       "      <td>new</td>\n",
       "      <td>NaN</td>\n",
       "      <td>5ft 7in</td>\n",
       "      <td>slightly long</td>\n",
       "      <td>small</td>\n",
       "      <td>9.0</td>\n",
       "      <td>NaN</td>\n",
       "    </tr>\n",
       "    <tr>\n",
       "      <th>3</th>\n",
       "      <td>21</td>\n",
       "      <td>5.0</td>\n",
       "      <td>dd/e</td>\n",
       "      <td>NaN</td>\n",
       "      <td>NaN</td>\n",
       "      <td>new</td>\n",
       "      <td>NaN</td>\n",
       "      <td>NaN</td>\n",
       "      <td>just right</td>\n",
       "      <td>fit</td>\n",
       "      <td>NaN</td>\n",
       "      <td>NaN</td>\n",
       "    </tr>\n",
       "    <tr>\n",
       "      <th>4</th>\n",
       "      <td>18</td>\n",
       "      <td>5.0</td>\n",
       "      <td>b</td>\n",
       "      <td>NaN</td>\n",
       "      <td>36.0</td>\n",
       "      <td>new</td>\n",
       "      <td>NaN</td>\n",
       "      <td>5ft 2in</td>\n",
       "      <td>slightly long</td>\n",
       "      <td>small</td>\n",
       "      <td>NaN</td>\n",
       "      <td>NaN</td>\n",
       "    </tr>\n",
       "  </tbody>\n",
       "</table>\n",
       "</div>"
      ],
      "text/plain": [
       "   size  quality cup size  hips  bra size category bust   height  \\\n",
       "0     7      5.0        d  38.0      34.0      new   36  5ft 6in   \n",
       "1    13      3.0        b  30.0      36.0      new  NaN  5ft 2in   \n",
       "2     7      2.0        b   NaN      32.0      new  NaN  5ft 7in   \n",
       "3    21      5.0     dd/e   NaN       NaN      new  NaN      NaN   \n",
       "4    18      5.0        b   NaN      36.0      new  NaN  5ft 2in   \n",
       "\n",
       "          length    fit  shoe size shoe width  \n",
       "0     just right  small        NaN        NaN  \n",
       "1     just right  small        NaN        NaN  \n",
       "2  slightly long  small        9.0        NaN  \n",
       "3     just right    fit        NaN        NaN  \n",
       "4  slightly long  small        NaN        NaN  "
      ]
     },
     "execution_count": 55,
     "metadata": {},
     "output_type": "execute_result"
    }
   ],
   "source": [
    "df.head()"
   ]
  },
  {
   "cell_type": "code",
   "execution_count": 56,
   "id": "482759fb-439e-45ca-8b50-69e60130c6da",
   "metadata": {},
   "outputs": [],
   "source": [
    "df=df.dropna(how=\"any\")"
   ]
  },
  {
   "cell_type": "code",
   "execution_count": 57,
   "id": "1ccef991-7c0b-4177-afba-1ea3fde0e7f3",
   "metadata": {},
   "outputs": [
    {
     "data": {
      "text/plain": [
       "(7000, 12)"
      ]
     },
     "execution_count": 57,
     "metadata": {},
     "output_type": "execute_result"
    }
   ],
   "source": [
    "df.shape\n"
   ]
  },
  {
   "cell_type": "code",
   "execution_count": 58,
   "id": "e21e97e0-4fc8-48e5-bdc3-bc3e2a1a6555",
   "metadata": {},
   "outputs": [
    {
     "data": {
      "text/html": [
       "<div>\n",
       "<style scoped>\n",
       "    .dataframe tbody tr th:only-of-type {\n",
       "        vertical-align: middle;\n",
       "    }\n",
       "\n",
       "    .dataframe tbody tr th {\n",
       "        vertical-align: top;\n",
       "    }\n",
       "\n",
       "    .dataframe thead th {\n",
       "        text-align: right;\n",
       "    }\n",
       "</style>\n",
       "<table border=\"1\" class=\"dataframe\">\n",
       "  <thead>\n",
       "    <tr style=\"text-align: right;\">\n",
       "      <th></th>\n",
       "      <th>size</th>\n",
       "      <th>quality</th>\n",
       "      <th>cup size</th>\n",
       "      <th>hips</th>\n",
       "      <th>bra size</th>\n",
       "      <th>category</th>\n",
       "      <th>bust</th>\n",
       "      <th>height</th>\n",
       "      <th>length</th>\n",
       "      <th>fit</th>\n",
       "      <th>shoe size</th>\n",
       "      <th>shoe width</th>\n",
       "    </tr>\n",
       "  </thead>\n",
       "  <tbody>\n",
       "    <tr>\n",
       "      <th>23</th>\n",
       "      <td>5</td>\n",
       "      <td>5.0</td>\n",
       "      <td>c</td>\n",
       "      <td>32.0</td>\n",
       "      <td>34.0</td>\n",
       "      <td>new</td>\n",
       "      <td>34</td>\n",
       "      <td>5ft 1in</td>\n",
       "      <td>just right</td>\n",
       "      <td>small</td>\n",
       "      <td>7.0</td>\n",
       "      <td>average</td>\n",
       "    </tr>\n",
       "    <tr>\n",
       "      <th>40</th>\n",
       "      <td>18</td>\n",
       "      <td>5.0</td>\n",
       "      <td>ddd/f</td>\n",
       "      <td>44.0</td>\n",
       "      <td>38.0</td>\n",
       "      <td>new</td>\n",
       "      <td>43</td>\n",
       "      <td>5ft 4in</td>\n",
       "      <td>just right</td>\n",
       "      <td>small</td>\n",
       "      <td>8.5</td>\n",
       "      <td>average</td>\n",
       "    </tr>\n",
       "    <tr>\n",
       "      <th>49</th>\n",
       "      <td>11</td>\n",
       "      <td>5.0</td>\n",
       "      <td>c</td>\n",
       "      <td>37.0</td>\n",
       "      <td>36.0</td>\n",
       "      <td>new</td>\n",
       "      <td>35</td>\n",
       "      <td>5ft 2in</td>\n",
       "      <td>slightly long</td>\n",
       "      <td>small</td>\n",
       "      <td>6.0</td>\n",
       "      <td>average</td>\n",
       "    </tr>\n",
       "    <tr>\n",
       "      <th>65</th>\n",
       "      <td>9</td>\n",
       "      <td>5.0</td>\n",
       "      <td>c</td>\n",
       "      <td>42.0</td>\n",
       "      <td>38.0</td>\n",
       "      <td>new</td>\n",
       "      <td>38</td>\n",
       "      <td>5ft 2in</td>\n",
       "      <td>slightly short</td>\n",
       "      <td>fit</td>\n",
       "      <td>7.0</td>\n",
       "      <td>average</td>\n",
       "    </tr>\n",
       "    <tr>\n",
       "      <th>100</th>\n",
       "      <td>20</td>\n",
       "      <td>3.0</td>\n",
       "      <td>c</td>\n",
       "      <td>45.0</td>\n",
       "      <td>40.0</td>\n",
       "      <td>new</td>\n",
       "      <td>38</td>\n",
       "      <td>5ft 7in</td>\n",
       "      <td>just right</td>\n",
       "      <td>fit</td>\n",
       "      <td>10.0</td>\n",
       "      <td>average</td>\n",
       "    </tr>\n",
       "  </tbody>\n",
       "</table>\n",
       "</div>"
      ],
      "text/plain": [
       "     size  quality cup size  hips  bra size category bust   height  \\\n",
       "23      5      5.0        c  32.0      34.0      new   34  5ft 1in   \n",
       "40     18      5.0    ddd/f  44.0      38.0      new   43  5ft 4in   \n",
       "49     11      5.0        c  37.0      36.0      new   35  5ft 2in   \n",
       "65      9      5.0        c  42.0      38.0      new   38  5ft 2in   \n",
       "100    20      3.0        c  45.0      40.0      new   38  5ft 7in   \n",
       "\n",
       "             length    fit  shoe size shoe width  \n",
       "23       just right  small        7.0    average  \n",
       "40       just right  small        8.5    average  \n",
       "49    slightly long  small        6.0    average  \n",
       "65   slightly short    fit        7.0    average  \n",
       "100      just right    fit       10.0    average  "
      ]
     },
     "execution_count": 58,
     "metadata": {},
     "output_type": "execute_result"
    }
   ],
   "source": [
    "df.head()"
   ]
  },
  {
   "cell_type": "code",
   "execution_count": 59,
   "id": "327158fd-f149-41f9-b792-9628e720dc19",
   "metadata": {},
   "outputs": [
    {
     "data": {
      "text/plain": [
       "pandas.core.series.Series"
      ]
     },
     "execution_count": 59,
     "metadata": {},
     "output_type": "execute_result"
    }
   ],
   "source": [
    "type(df[\"length\"])"
   ]
  },
  {
   "cell_type": "code",
   "execution_count": 60,
   "id": "9e88d9d8-f8a7-4854-a605-3bfd4c90303e",
   "metadata": {},
   "outputs": [
    {
     "data": {
      "text/plain": [
       "size            int64\n",
       "quality       float64\n",
       "cup size       object\n",
       "hips          float64\n",
       "bra size      float64\n",
       "category       object\n",
       "bust           object\n",
       "height         object\n",
       "length         object\n",
       "fit            object\n",
       "shoe size     float64\n",
       "shoe width     object\n",
       "dtype: object"
      ]
     },
     "execution_count": 60,
     "metadata": {},
     "output_type": "execute_result"
    }
   ],
   "source": [
    "df.dtypes"
   ]
  },
  {
   "cell_type": "code",
   "execution_count": 61,
   "id": "691f1044-a10a-4b6e-b79e-624c8ecc34c6",
   "metadata": {},
   "outputs": [
    {
     "data": {
      "text/plain": [
       "<bound method IndexOpsMixin.value_counts of 23           c\n",
       "40       ddd/f\n",
       "49           c\n",
       "65           c\n",
       "100          c\n",
       "         ...  \n",
       "82714     dd/e\n",
       "82720        c\n",
       "82751        d\n",
       "82753     dd/e\n",
       "82754     dd/e\n",
       "Name: cup size, Length: 7000, dtype: object>"
      ]
     },
     "execution_count": 61,
     "metadata": {},
     "output_type": "execute_result"
    }
   ],
   "source": [
    "df[\"cup size\"].value_counts"
   ]
  },
  {
   "cell_type": "code",
   "execution_count": 62,
   "id": "36dac868-d86b-4e10-bc23-fd07eff79485",
   "metadata": {},
   "outputs": [
    {
     "data": {
      "text/plain": [
       "quality\n",
       "5.0    2727\n",
       "4.0    2288\n",
       "3.0    1502\n",
       "2.0     388\n",
       "1.0      95\n",
       "Name: count, dtype: int64"
      ]
     },
     "execution_count": 62,
     "metadata": {},
     "output_type": "execute_result"
    }
   ],
   "source": [
    "df[\"quality\"].value_counts()"
   ]
  },
  {
   "cell_type": "code",
   "execution_count": 63,
   "id": "7cd93674-bec5-4be2-987b-8d950cdf72c7",
   "metadata": {},
   "outputs": [
    {
     "data": {
      "text/plain": [
       "category\n",
       "new          1775\n",
       "tops         1754\n",
       "bottoms      1442\n",
       "dresses      1410\n",
       "outerwear     367\n",
       "sale          242\n",
       "wedding        10\n",
       "Name: count, dtype: int64"
      ]
     },
     "execution_count": 63,
     "metadata": {},
     "output_type": "execute_result"
    }
   ],
   "source": [
    "df[\"category\"].value_counts()"
   ]
  },
  {
   "cell_type": "code",
   "execution_count": 64,
   "id": "8633f469-3f93-43ba-a4aa-cc508cec11db",
   "metadata": {},
   "outputs": [
    {
     "name": "stdout",
     "output_type": "stream",
     "text": [
      "category\n",
      "new          1775\n",
      "tops         1754\n",
      "bottoms      1442\n",
      "dresses      1410\n",
      "outerwear     367\n",
      "sale          242\n",
      "wedding        10\n",
      "Name: count, dtype: int64\n",
      "bust\n",
      "36       1241\n",
      "34       1030\n",
      "38        595\n",
      "35        545\n",
      "37        423\n",
      "32        400\n",
      "40        390\n",
      "39        344\n",
      "33        283\n",
      "42        270\n",
      "44        225\n",
      "41        187\n",
      "45        180\n",
      "43        180\n",
      "48        146\n",
      "46        115\n",
      "47         99\n",
      "31         77\n",
      "50         51\n",
      "30         50\n",
      "49         30\n",
      "51         29\n",
      "54         24\n",
      "52         23\n",
      "28         15\n",
      "53         14\n",
      "26          6\n",
      "56          5\n",
      "29          5\n",
      "20          5\n",
      "23          3\n",
      "55          2\n",
      "25          2\n",
      "27          2\n",
      "24          2\n",
      "37-39       1\n",
      "58          1\n",
      "Name: count, dtype: int64\n",
      "height\n",
      "5ft 4in     1001\n",
      "5ft 6in      964\n",
      "5ft 5in      831\n",
      "5ft 3in      796\n",
      "5ft 7in      725\n",
      "5ft 2in      704\n",
      "5ft 8in      506\n",
      "5ft 1in      373\n",
      "5ft 9in      334\n",
      "5ft          234\n",
      "5ft 10in     232\n",
      "4ft 11in     111\n",
      "5ft 11in      86\n",
      "6ft           51\n",
      "4ft 10in      29\n",
      "6ft 1in       12\n",
      "6ft 5in        4\n",
      "6ft 2in        2\n",
      "6ft 4in        2\n",
      "4ft 9in        1\n",
      "6ft 3in        1\n",
      "3ft 2in        1\n",
      "Name: count, dtype: int64\n",
      "length\n",
      "just right        5231\n",
      "slightly long     1012\n",
      "slightly short     510\n",
      "very long          197\n",
      "very short          50\n",
      "Name: count, dtype: int64\n",
      "fit\n",
      "fit      4798\n",
      "large    1161\n",
      "small    1041\n",
      "Name: count, dtype: int64\n"
     ]
    }
   ],
   "source": [
    "list=[\"category\",\"bust\",\"height\",\"length\",\"fit\"]\n",
    "for i in list:\n",
    "    print(df[i].value_counts())"
   ]
  },
  {
   "cell_type": "code",
   "execution_count": 65,
   "id": "beec647d-8399-480f-a88b-ae3c08dba3fb",
   "metadata": {},
   "outputs": [],
   "source": [
    "from sklearn.preprocessing import LabelEncoder\n"
   ]
  },
  {
   "cell_type": "code",
   "execution_count": 66,
   "id": "afc02d2a-b573-48f3-a24d-0b2fe70c4a13",
   "metadata": {},
   "outputs": [],
   "source": [
    "def label_encoded(list):\n",
    "    le=LabelEncoder()\n",
    "    le.fit(list)\n",
    "    print(\"Mapping of classes:\")\n",
    "    for original, encoded in zip(le.classes_, range(len(le.classes_))):\n",
    "        print(f\"{original} -> {encoded}\")\n",
    "    return le.transform(list)\n",
    "    "
   ]
  },
  {
   "cell_type": "code",
   "execution_count": 67,
   "id": "bcb94e97-3e0a-47b3-bd05-6c1e0d485d60",
   "metadata": {},
   "outputs": [
    {
     "name": "stdout",
     "output_type": "stream",
     "text": [
      "Mapping of classes:\n",
      "a -> 0\n",
      "aa -> 1\n",
      "b -> 2\n",
      "c -> 3\n",
      "d -> 4\n",
      "dd/e -> 5\n",
      "ddd/f -> 6\n",
      "dddd/g -> 7\n",
      "h -> 8\n",
      "i -> 9\n",
      "j -> 10\n",
      "k -> 11\n",
      "Mapping of classes:\n",
      "bottoms -> 0\n",
      "dresses -> 1\n",
      "new -> 2\n",
      "outerwear -> 3\n",
      "sale -> 4\n",
      "tops -> 5\n",
      "wedding -> 6\n",
      "Mapping of classes:\n",
      "just right -> 0\n",
      "slightly long -> 1\n",
      "slightly short -> 2\n",
      "very long -> 3\n",
      "very short -> 4\n",
      "Mapping of classes:\n",
      "fit -> 0\n",
      "large -> 1\n",
      "small -> 2\n",
      "Mapping of classes:\n",
      "average -> 0\n",
      "narrow -> 1\n",
      "wide -> 2\n"
     ]
    },
    {
     "data": {
      "text/html": [
       "<div>\n",
       "<style scoped>\n",
       "    .dataframe tbody tr th:only-of-type {\n",
       "        vertical-align: middle;\n",
       "    }\n",
       "\n",
       "    .dataframe tbody tr th {\n",
       "        vertical-align: top;\n",
       "    }\n",
       "\n",
       "    .dataframe thead th {\n",
       "        text-align: right;\n",
       "    }\n",
       "</style>\n",
       "<table border=\"1\" class=\"dataframe\">\n",
       "  <thead>\n",
       "    <tr style=\"text-align: right;\">\n",
       "      <th></th>\n",
       "      <th>size</th>\n",
       "      <th>quality</th>\n",
       "      <th>cup size</th>\n",
       "      <th>hips</th>\n",
       "      <th>bra size</th>\n",
       "      <th>category</th>\n",
       "      <th>bust</th>\n",
       "      <th>height</th>\n",
       "      <th>length</th>\n",
       "      <th>fit</th>\n",
       "      <th>shoe size</th>\n",
       "      <th>shoe width</th>\n",
       "    </tr>\n",
       "  </thead>\n",
       "  <tbody>\n",
       "    <tr>\n",
       "      <th>23</th>\n",
       "      <td>5</td>\n",
       "      <td>5.0</td>\n",
       "      <td>3</td>\n",
       "      <td>32.0</td>\n",
       "      <td>34.0</td>\n",
       "      <td>2</td>\n",
       "      <td>34</td>\n",
       "      <td>5ft 1in</td>\n",
       "      <td>0</td>\n",
       "      <td>2</td>\n",
       "      <td>7.0</td>\n",
       "      <td>0</td>\n",
       "    </tr>\n",
       "    <tr>\n",
       "      <th>40</th>\n",
       "      <td>18</td>\n",
       "      <td>5.0</td>\n",
       "      <td>6</td>\n",
       "      <td>44.0</td>\n",
       "      <td>38.0</td>\n",
       "      <td>2</td>\n",
       "      <td>43</td>\n",
       "      <td>5ft 4in</td>\n",
       "      <td>0</td>\n",
       "      <td>2</td>\n",
       "      <td>8.5</td>\n",
       "      <td>0</td>\n",
       "    </tr>\n",
       "    <tr>\n",
       "      <th>49</th>\n",
       "      <td>11</td>\n",
       "      <td>5.0</td>\n",
       "      <td>3</td>\n",
       "      <td>37.0</td>\n",
       "      <td>36.0</td>\n",
       "      <td>2</td>\n",
       "      <td>35</td>\n",
       "      <td>5ft 2in</td>\n",
       "      <td>1</td>\n",
       "      <td>2</td>\n",
       "      <td>6.0</td>\n",
       "      <td>0</td>\n",
       "    </tr>\n",
       "    <tr>\n",
       "      <th>65</th>\n",
       "      <td>9</td>\n",
       "      <td>5.0</td>\n",
       "      <td>3</td>\n",
       "      <td>42.0</td>\n",
       "      <td>38.0</td>\n",
       "      <td>2</td>\n",
       "      <td>38</td>\n",
       "      <td>5ft 2in</td>\n",
       "      <td>2</td>\n",
       "      <td>0</td>\n",
       "      <td>7.0</td>\n",
       "      <td>0</td>\n",
       "    </tr>\n",
       "    <tr>\n",
       "      <th>100</th>\n",
       "      <td>20</td>\n",
       "      <td>3.0</td>\n",
       "      <td>3</td>\n",
       "      <td>45.0</td>\n",
       "      <td>40.0</td>\n",
       "      <td>2</td>\n",
       "      <td>38</td>\n",
       "      <td>5ft 7in</td>\n",
       "      <td>0</td>\n",
       "      <td>0</td>\n",
       "      <td>10.0</td>\n",
       "      <td>0</td>\n",
       "    </tr>\n",
       "  </tbody>\n",
       "</table>\n",
       "</div>"
      ],
      "text/plain": [
       "     size  quality  cup size  hips  bra size  category bust   height  length  \\\n",
       "23      5      5.0         3  32.0      34.0         2   34  5ft 1in       0   \n",
       "40     18      5.0         6  44.0      38.0         2   43  5ft 4in       0   \n",
       "49     11      5.0         3  37.0      36.0         2   35  5ft 2in       1   \n",
       "65      9      5.0         3  42.0      38.0         2   38  5ft 2in       2   \n",
       "100    20      3.0         3  45.0      40.0         2   38  5ft 7in       0   \n",
       "\n",
       "     fit  shoe size  shoe width  \n",
       "23     2        7.0           0  \n",
       "40     2        8.5           0  \n",
       "49     2        6.0           0  \n",
       "65     0        7.0           0  \n",
       "100    0       10.0           0  "
      ]
     },
     "execution_count": 67,
     "metadata": {},
     "output_type": "execute_result"
    }
   ],
   "source": [
    "list1=[\"cup size\",\"category\",\"length\",\"fit\",\"shoe width\"]\n",
    "for i in list1:\n",
    "    df[i]=label_encoded(df[i])\n",
    "df.head(5)"
   ]
  },
  {
   "cell_type": "code",
   "execution_count": 68,
   "id": "83dd41ab-487c-4eab-b34a-286ab024244f",
   "metadata": {},
   "outputs": [
    {
     "data": {
      "text/plain": [
       "size            int64\n",
       "quality       float64\n",
       "cup size        int32\n",
       "hips          float64\n",
       "bra size      float64\n",
       "category        int32\n",
       "bust           object\n",
       "height         object\n",
       "length          int32\n",
       "fit             int32\n",
       "shoe size     float64\n",
       "shoe width      int32\n",
       "dtype: object"
      ]
     },
     "execution_count": 68,
     "metadata": {},
     "output_type": "execute_result"
    }
   ],
   "source": [
    "df.dtypes"
   ]
  },
  {
   "cell_type": "code",
   "execution_count": 69,
   "id": "740bf637-980f-4bc4-b5f6-d09c27f440d9",
   "metadata": {},
   "outputs": [],
   "source": [
    "def rep1(x):\n",
    "    vari=np.nan\n",
    "    try:\n",
    "        vari=float(x)\n",
    "    except:\n",
    "        vari=np.nan\n",
    "    return vari\n",
    "df[\"bust\"]=df[\"bust\"].map(rep1)"
   ]
  },
  {
   "cell_type": "code",
   "execution_count": 70,
   "id": "d03a2e83-36d4-451f-b23f-7ac2ada42810",
   "metadata": {},
   "outputs": [
    {
     "data": {
      "text/plain": [
       "1"
      ]
     },
     "execution_count": 70,
     "metadata": {},
     "output_type": "execute_result"
    }
   ],
   "source": [
    "df[\"bust\"].isnull().sum()"
   ]
  },
  {
   "cell_type": "code",
   "execution_count": 71,
   "id": "a0b4d6a7-1b95-49e6-b41d-703df3e957fd",
   "metadata": {},
   "outputs": [],
   "source": [
    "df=df.dropna(how=\"any\")"
   ]
  },
  {
   "cell_type": "code",
   "execution_count": 72,
   "id": "d166341f-e24c-4e85-8f69-ff2677a3e4dd",
   "metadata": {},
   "outputs": [
    {
     "data": {
      "text/plain": [
       "(6999, 12)"
      ]
     },
     "execution_count": 72,
     "metadata": {},
     "output_type": "execute_result"
    }
   ],
   "source": [
    "df.shape"
   ]
  },
  {
   "cell_type": "code",
   "execution_count": 73,
   "id": "868e7353-9c61-45dc-8c1a-5b5df175ed30",
   "metadata": {},
   "outputs": [
    {
     "name": "stderr",
     "output_type": "stream",
     "text": [
      "<>:6: SyntaxWarning: invalid escape sequence '\\d'\n",
      "<>:6: SyntaxWarning: invalid escape sequence '\\d'\n",
      "C:\\Users\\DELL\\AppData\\Local\\Temp\\ipykernel_13836\\2125366662.py:6: SyntaxWarning: invalid escape sequence '\\d'\n",
      "  p='[\\d]+[.,\\d]+|[\\d]*[.][\\d]+|[\\d]+'\n"
     ]
    }
   ],
   "source": [
    "import re\n",
    "height_list=df[\"height\"].to_list()\n",
    "updated=[]\n",
    "def extraction(x):\n",
    "    numbers=[]\n",
    "    p='[\\d]+[.,\\d]+|[\\d]*[.][\\d]+|[\\d]+'\n",
    "    if re.search(p,x) is not None:\n",
    "        for catch in re.finditer(p,x):\n",
    "            numbers.append(int(catch[0]))\n",
    "    if len(numbers)==2:\n",
    "        fina=numbers[1]+numbers[0]*12\n",
    "    elif len(numbers)==1:\n",
    "        fina=numbers[0]\n",
    "    else:\n",
    "        fina=np.nan\n",
    "    return fina\n",
    "for height in height_list:\n",
    "    updated.append(extraction(height))\n",
    "df[\"height\"]=updated\n",
    "    "
   ]
  },
  {
   "cell_type": "code",
   "execution_count": 74,
   "id": "c7b6cad4-b82a-4940-bd1f-a84fc30a66f9",
   "metadata": {},
   "outputs": [
    {
     "data": {
      "text/html": [
       "<div>\n",
       "<style scoped>\n",
       "    .dataframe tbody tr th:only-of-type {\n",
       "        vertical-align: middle;\n",
       "    }\n",
       "\n",
       "    .dataframe tbody tr th {\n",
       "        vertical-align: top;\n",
       "    }\n",
       "\n",
       "    .dataframe thead th {\n",
       "        text-align: right;\n",
       "    }\n",
       "</style>\n",
       "<table border=\"1\" class=\"dataframe\">\n",
       "  <thead>\n",
       "    <tr style=\"text-align: right;\">\n",
       "      <th></th>\n",
       "      <th>size</th>\n",
       "      <th>quality</th>\n",
       "      <th>cup size</th>\n",
       "      <th>hips</th>\n",
       "      <th>bra size</th>\n",
       "      <th>category</th>\n",
       "      <th>bust</th>\n",
       "      <th>height</th>\n",
       "      <th>length</th>\n",
       "      <th>fit</th>\n",
       "      <th>shoe size</th>\n",
       "      <th>shoe width</th>\n",
       "    </tr>\n",
       "  </thead>\n",
       "  <tbody>\n",
       "    <tr>\n",
       "      <th>23</th>\n",
       "      <td>5</td>\n",
       "      <td>5.0</td>\n",
       "      <td>3</td>\n",
       "      <td>32.0</td>\n",
       "      <td>34.0</td>\n",
       "      <td>2</td>\n",
       "      <td>34.0</td>\n",
       "      <td>61</td>\n",
       "      <td>0</td>\n",
       "      <td>2</td>\n",
       "      <td>7.0</td>\n",
       "      <td>0</td>\n",
       "    </tr>\n",
       "    <tr>\n",
       "      <th>40</th>\n",
       "      <td>18</td>\n",
       "      <td>5.0</td>\n",
       "      <td>6</td>\n",
       "      <td>44.0</td>\n",
       "      <td>38.0</td>\n",
       "      <td>2</td>\n",
       "      <td>43.0</td>\n",
       "      <td>64</td>\n",
       "      <td>0</td>\n",
       "      <td>2</td>\n",
       "      <td>8.5</td>\n",
       "      <td>0</td>\n",
       "    </tr>\n",
       "    <tr>\n",
       "      <th>49</th>\n",
       "      <td>11</td>\n",
       "      <td>5.0</td>\n",
       "      <td>3</td>\n",
       "      <td>37.0</td>\n",
       "      <td>36.0</td>\n",
       "      <td>2</td>\n",
       "      <td>35.0</td>\n",
       "      <td>62</td>\n",
       "      <td>1</td>\n",
       "      <td>2</td>\n",
       "      <td>6.0</td>\n",
       "      <td>0</td>\n",
       "    </tr>\n",
       "    <tr>\n",
       "      <th>65</th>\n",
       "      <td>9</td>\n",
       "      <td>5.0</td>\n",
       "      <td>3</td>\n",
       "      <td>42.0</td>\n",
       "      <td>38.0</td>\n",
       "      <td>2</td>\n",
       "      <td>38.0</td>\n",
       "      <td>62</td>\n",
       "      <td>2</td>\n",
       "      <td>0</td>\n",
       "      <td>7.0</td>\n",
       "      <td>0</td>\n",
       "    </tr>\n",
       "    <tr>\n",
       "      <th>100</th>\n",
       "      <td>20</td>\n",
       "      <td>3.0</td>\n",
       "      <td>3</td>\n",
       "      <td>45.0</td>\n",
       "      <td>40.0</td>\n",
       "      <td>2</td>\n",
       "      <td>38.0</td>\n",
       "      <td>67</td>\n",
       "      <td>0</td>\n",
       "      <td>0</td>\n",
       "      <td>10.0</td>\n",
       "      <td>0</td>\n",
       "    </tr>\n",
       "    <tr>\n",
       "      <th>...</th>\n",
       "      <td>...</td>\n",
       "      <td>...</td>\n",
       "      <td>...</td>\n",
       "      <td>...</td>\n",
       "      <td>...</td>\n",
       "      <td>...</td>\n",
       "      <td>...</td>\n",
       "      <td>...</td>\n",
       "      <td>...</td>\n",
       "      <td>...</td>\n",
       "      <td>...</td>\n",
       "      <td>...</td>\n",
       "    </tr>\n",
       "    <tr>\n",
       "      <th>82714</th>\n",
       "      <td>20</td>\n",
       "      <td>4.0</td>\n",
       "      <td>5</td>\n",
       "      <td>48.0</td>\n",
       "      <td>38.0</td>\n",
       "      <td>3</td>\n",
       "      <td>43.0</td>\n",
       "      <td>61</td>\n",
       "      <td>1</td>\n",
       "      <td>1</td>\n",
       "      <td>8.5</td>\n",
       "      <td>2</td>\n",
       "    </tr>\n",
       "    <tr>\n",
       "      <th>82720</th>\n",
       "      <td>26</td>\n",
       "      <td>5.0</td>\n",
       "      <td>3</td>\n",
       "      <td>50.0</td>\n",
       "      <td>38.0</td>\n",
       "      <td>3</td>\n",
       "      <td>43.0</td>\n",
       "      <td>6</td>\n",
       "      <td>0</td>\n",
       "      <td>2</td>\n",
       "      <td>10.5</td>\n",
       "      <td>2</td>\n",
       "    </tr>\n",
       "    <tr>\n",
       "      <th>82751</th>\n",
       "      <td>8</td>\n",
       "      <td>3.0</td>\n",
       "      <td>4</td>\n",
       "      <td>34.0</td>\n",
       "      <td>34.0</td>\n",
       "      <td>3</td>\n",
       "      <td>36.0</td>\n",
       "      <td>66</td>\n",
       "      <td>0</td>\n",
       "      <td>2</td>\n",
       "      <td>6.5</td>\n",
       "      <td>0</td>\n",
       "    </tr>\n",
       "    <tr>\n",
       "      <th>82753</th>\n",
       "      <td>4</td>\n",
       "      <td>3.0</td>\n",
       "      <td>5</td>\n",
       "      <td>35.0</td>\n",
       "      <td>32.0</td>\n",
       "      <td>3</td>\n",
       "      <td>36.0</td>\n",
       "      <td>66</td>\n",
       "      <td>0</td>\n",
       "      <td>0</td>\n",
       "      <td>10.5</td>\n",
       "      <td>2</td>\n",
       "    </tr>\n",
       "    <tr>\n",
       "      <th>82754</th>\n",
       "      <td>12</td>\n",
       "      <td>5.0</td>\n",
       "      <td>5</td>\n",
       "      <td>39.0</td>\n",
       "      <td>36.0</td>\n",
       "      <td>3</td>\n",
       "      <td>36.0</td>\n",
       "      <td>70</td>\n",
       "      <td>2</td>\n",
       "      <td>0</td>\n",
       "      <td>9.5</td>\n",
       "      <td>0</td>\n",
       "    </tr>\n",
       "  </tbody>\n",
       "</table>\n",
       "<p>6999 rows × 12 columns</p>\n",
       "</div>"
      ],
      "text/plain": [
       "       size  quality  cup size  hips  bra size  category  bust  height  \\\n",
       "23        5      5.0         3  32.0      34.0         2  34.0      61   \n",
       "40       18      5.0         6  44.0      38.0         2  43.0      64   \n",
       "49       11      5.0         3  37.0      36.0         2  35.0      62   \n",
       "65        9      5.0         3  42.0      38.0         2  38.0      62   \n",
       "100      20      3.0         3  45.0      40.0         2  38.0      67   \n",
       "...     ...      ...       ...   ...       ...       ...   ...     ...   \n",
       "82714    20      4.0         5  48.0      38.0         3  43.0      61   \n",
       "82720    26      5.0         3  50.0      38.0         3  43.0       6   \n",
       "82751     8      3.0         4  34.0      34.0         3  36.0      66   \n",
       "82753     4      3.0         5  35.0      32.0         3  36.0      66   \n",
       "82754    12      5.0         5  39.0      36.0         3  36.0      70   \n",
       "\n",
       "       length  fit  shoe size  shoe width  \n",
       "23          0    2        7.0           0  \n",
       "40          0    2        8.5           0  \n",
       "49          1    2        6.0           0  \n",
       "65          2    0        7.0           0  \n",
       "100         0    0       10.0           0  \n",
       "...       ...  ...        ...         ...  \n",
       "82714       1    1        8.5           2  \n",
       "82720       0    2       10.5           2  \n",
       "82751       0    2        6.5           0  \n",
       "82753       0    0       10.5           2  \n",
       "82754       2    0        9.5           0  \n",
       "\n",
       "[6999 rows x 12 columns]"
      ]
     },
     "execution_count": 74,
     "metadata": {},
     "output_type": "execute_result"
    }
   ],
   "source": [
    "df"
   ]
  },
  {
   "cell_type": "code",
   "execution_count": 75,
   "id": "54bf3273-fa77-4cfa-8dd6-5d084184eb67",
   "metadata": {},
   "outputs": [],
   "source": [
    "from sklearn.model_selection import train_test_split\n",
    "from sklearn.ensemble import RandomForestClassifier\n",
    "from sklearn.metrics import accuracy_score"
   ]
  },
  {
   "cell_type": "code",
   "execution_count": 76,
   "id": "a8d690ac-2f0f-4927-a767-8fa525ca2353",
   "metadata": {},
   "outputs": [],
   "source": [
    "sns.set_theme(style=\"whitegrid\")\n"
   ]
  },
  {
   "cell_type": "code",
   "execution_count": 77,
   "id": "63e6da11-2b14-4f79-b1cd-ccf1c0228dcb",
   "metadata": {},
   "outputs": [
    {
     "data": {
      "text/plain": [
       "<Axes: ylabel='size'>"
      ]
     },
     "execution_count": 77,
     "metadata": {},
     "output_type": "execute_result"
    },
    {
     "data": {
      "image/png": "[encoded data removed]",
      "text/plain": [
       "<Figure size 640x480 with 1 Axes>"
      ]
     },
     "metadata": {},
     "output_type": "display_data"
    }
   ],
   "source": [
    "sns.boxplot(df[\"size\"])"
   ]
  },
  {
   "cell_type": "code",
   "execution_count": 78,
   "id": "2b20ed4d-238a-4b38-bc5b-112b6ee8f147",
   "metadata": {},
   "outputs": [
    {
     "data": {
      "text/plain": [
       "23        5\n",
       "40       18\n",
       "49       11\n",
       "65        9\n",
       "100      20\n",
       "         ..\n",
       "82714    20\n",
       "82720    26\n",
       "82751     8\n",
       "82753     4\n",
       "82754    12\n",
       "Name: size, Length: 6999, dtype: int64"
      ]
     },
     "execution_count": 78,
     "metadata": {},
     "output_type": "execute_result"
    }
   ],
   "source": [
    "df[\"size\"]"
   ]
  },
  {
   "cell_type": "code",
   "execution_count": 79,
   "id": "a55d857c-4ee4-4e93-afa3-93eb4a8626f1",
   "metadata": {},
   "outputs": [
    {
     "data": {
      "text/plain": [
       "6.0"
      ]
     },
     "execution_count": 79,
     "metadata": {},
     "output_type": "execute_result"
    }
   ],
   "source": [
    "df=df[df[\"size\"]<28]\n",
    "df[\"size\"].quantile(0.25)"
   ]
  },
  {
   "cell_type": "code",
   "execution_count": 80,
   "id": "c9de661d-b18b-4d07-989c-e4e46baee2e4",
   "metadata": {},
   "outputs": [
    {
     "data": {
      "text/plain": [
       "23        5\n",
       "40       18\n",
       "49       11\n",
       "65        9\n",
       "100      20\n",
       "         ..\n",
       "82714    20\n",
       "82720    26\n",
       "82751     8\n",
       "82753     4\n",
       "82754    12\n",
       "Name: size, Length: 6716, dtype: int64"
      ]
     },
     "execution_count": 80,
     "metadata": {},
     "output_type": "execute_result"
    }
   ],
   "source": [
    "df[\"size\"]"
   ]
  },
  {
   "cell_type": "code",
   "execution_count": 81,
   "id": "82bac683-9f83-467b-861b-a07e97245a2b",
   "metadata": {},
   "outputs": [
    {
     "data": {
      "image/png": "[encoded data removed]",
      "text/plain": [
       "<Figure size 640x480 with 1 Axes>"
      ]
     },
     "metadata": {},
     "output_type": "display_data"
    }
   ],
   "source": [
    "sns.boxplot(df[\"hips\"])\n",
    "df[\"hips\"].quantile(0.75)*1.5\n",
    "df=df[df[\"hips\"]<64.5]"
   ]
  },
  {
   "cell_type": "code",
   "execution_count": 82,
   "id": "5b252f00-5ac4-4ead-813a-84e0b5ebd0e6",
   "metadata": {},
   "outputs": [
    {
     "data": {
      "text/plain": [
       "<Axes: ylabel='bra size'>"
      ]
     },
     "execution_count": 82,
     "metadata": {},
     "output_type": "execute_result"
    },
    {
     "data": {
      "image/png": "[encoded data removed]",
      "text/plain": [
       "<Figure size 640x480 with 1 Axes>"
      ]
     },
     "metadata": {},
     "output_type": "display_data"
    }
   ],
   "source": [
    "\n",
    "q1=df[\"bra size\"].quantile(0.25)\n",
    "q3=df[\"bra size\"].quantile(0.75)\n",
    "iqr=q3-q1\n",
    "\n",
    "lb=q1-iqr*1.5\n",
    "up=q3+iqr*1.5\n",
    "\n",
    "df=df[(df[\"bra size\"]>lb) & (df[\"bra size\"]<up)]\n",
    "sns.boxplot(df[\"bra size\"])"
   ]
  },
  {
   "cell_type": "code",
   "execution_count": 83,
   "id": "bc0eaf5f-baa6-45f8-88ed-da8754d28d51",
   "metadata": {},
   "outputs": [
    {
     "data": {
      "text/plain": [
       "<Axes: ylabel='height'>"
      ]
     },
     "execution_count": 83,
     "metadata": {},
     "output_type": "execute_result"
    },
    {
     "data": {
      "image/png": "[encoded data removed]",
      "text/plain": [
       "<Figure size 640x480 with 1 Axes>"
      ]
     },
     "metadata": {},
     "output_type": "display_data"
    }
   ],
   "source": [
    "q1=df[\"height\"].quantile(0.25)\n",
    "q3=df[\"height\"].quantile(0.75)\n",
    "iqr=q3-q1\n",
    "\n",
    "lb=q1-iqr*1.5\n",
    "up=q3+iqr*1.5\n",
    "\n",
    "df=df[(df[\"height\"]>lb) & (df[\"height\"]<up)]\n",
    "sns.boxplot(df[\"height\"])"
   ]
  },
  {
   "cell_type": "code",
   "execution_count": 84,
   "id": "d6da44fd-8e81-4d3e-a491-67a3736d2676",
   "metadata": {},
   "outputs": [
    {
     "data": {
      "text/plain": [
       "<Axes: ylabel='bust'>"
      ]
     },
     "execution_count": 84,
     "metadata": {},
     "output_type": "execute_result"
    },
    {
     "data": {
      "image/png": "[encoded data removed]",
      "text/plain": [
       "<Figure size 640x480 with 1 Axes>"
      ]
     },
     "metadata": {},
     "output_type": "display_data"
    }
   ],
   "source": [
    "q1=df[\"bust\"].quantile(0.25)\n",
    "q3=df[\"bust\"].quantile(0.75)\n",
    "iqr=q3-q1\n",
    "\n",
    "lb=q1-iqr*1.5\n",
    "up=q3+iqr*1.5\n",
    "\n",
    "df=df[(df[\"bust\"]>lb) & (df[\"bust\"]<up)]\n",
    "sns.boxplot(df[\"bust\"])"
   ]
  },
  {
   "cell_type": "code",
   "execution_count": 85,
   "id": "fe1c5643-2edf-4af2-8835-4deccda97fc8",
   "metadata": {},
   "outputs": [
    {
     "data": {
      "text/plain": [
       "<Axes: >"
      ]
     },
     "execution_count": 85,
     "metadata": {},
     "output_type": "execute_result"
    },
    {
     "data": {
      "image/png": "[encoded data removed]",
      "text/plain": [
       "<Figure size 1000x1000 with 2 Axes>"
      ]
     },
     "metadata": {},
     "output_type": "display_data"
    }
   ],
   "source": [
    "plt.figure(figsize=(10,10))\n",
    "sns.heatmap(df.corr(),annot=True,cmap=\"viridis\",linewidth=0.5)"
   ]
  },
  {
   "cell_type": "code",
   "execution_count": 86,
   "id": "f73a3198-7408-4484-b624-353a2f6daedd",
   "metadata": {},
   "outputs": [],
   "source": [
    "y=df[\"quality\"]\n",
    "x=df.drop([\"quality\",\"height\",\"hips\",\"bust\"],axis=1)"
   ]
  },
  {
   "cell_type": "code",
   "execution_count": 87,
   "id": "6f653a80-4333-4a2c-afcd-64174c2d963e",
   "metadata": {},
   "outputs": [],
   "source": [
    "x_train,x_test,y_train,y_test=train_test_split(x,y,test_size=0.2,random_state=42)"
   ]
  },
  {
   "cell_type": "code",
   "execution_count": 88,
   "id": "498f5bf0-aff9-476c-8396-32aee799c04a",
   "metadata": {},
   "outputs": [],
   "source": [
    "rmf=RandomForestClassifier(n_estimators=250,n_jobs=-1)"
   ]
  },
  {
   "cell_type": "code",
   "execution_count": 89,
   "id": "ab535039-5ee8-44b7-80a1-5d92f5cdb993",
   "metadata": {},
   "outputs": [
    {
     "data": {
      "text/html": [
       "<style>#sk-container-id-2 {color: black;}#sk-container-id-2 pre{padding: 0;}#sk-container-id-2 div.sk-toggleable {background-color: white;}#sk-container-id-2 label.sk-toggleable__label {cursor: pointer;display: block;width: 100%;margin-bottom: 0;padding: 0.3em;box-sizing: border-box;text-align: center;}#sk-container-id-2 label.sk-toggleable__label-arrow:before {content: \"▸\";float: left;margin-right: 0.25em;color: #696969;}#sk-container-id-2 label.sk-toggleable__label-arrow:hover:before {color: black;}#sk-container-id-2 div.sk-estimator:hover label.sk-toggleable__label-arrow:before {color: black;}#sk-container-id-2 div.sk-toggleable__content {max-height: 0;max-width: 0;overflow: hidden;text-align: left;background-color: #f0f8ff;}#sk-container-id-2 div.sk-toggleable__content pre {margin: 0.2em;color: black;border-radius: 0.25em;background-color: #f0f8ff;}#sk-container-id-2 input.sk-toggleable__control:checked~div.sk-toggleable__content {max-height: 200px;max-width: 100%;overflow: auto;}#sk-container-id-2 input.sk-toggleable__control:checked~label.sk-toggleable__label-arrow:before {content: \"▾\";}#sk-container-id-2 div.sk-estimator input.sk-toggleable__control:checked~label.sk-toggleable__label {background-color: #d4ebff;}#sk-container-id-2 div.sk-label input.sk-toggleable__control:checked~label.sk-toggleable__label {background-color: #d4ebff;}#sk-container-id-2 input.sk-hidden--visually {border: 0;clip: rect(1px 1px 1px 1px);clip: rect(1px, 1px, 1px, 1px);height: 1px;margin: -1px;overflow: hidden;padding: 0;position: absolute;width: 1px;}#sk-container-id-2 div.sk-estimator {font-family: monospace;background-color: #f0f8ff;border: 1px dotted black;border-radius: 0.25em;box-sizing: border-box;margin-bottom: 0.5em;}#sk-container-id-2 div.sk-estimator:hover {background-color: #d4ebff;}#sk-container-id-2 div.sk-parallel-item::after {content: \"\";width: 100%;border-bottom: 1px solid gray;flex-grow: 1;}#sk-container-id-2 div.sk-label:hover label.sk-toggleable__label {background-color: #d4ebff;}#sk-container-id-2 div.sk-serial::before {content: \"\";position: absolute;border-left: 1px solid gray;box-sizing: border-box;top: 0;bottom: 0;left: 50%;z-index: 0;}#sk-container-id-2 div.sk-serial {display: flex;flex-direction: column;align-items: center;background-color: white;padding-right: 0.2em;padding-left: 0.2em;position: relative;}#sk-container-id-2 div.sk-item {position: relative;z-index: 1;}#sk-container-id-2 div.sk-parallel {display: flex;align-items: stretch;justify-content: center;background-color: white;position: relative;}#sk-container-id-2 div.sk-item::before, #sk-container-id-2 div.sk-parallel-item::before {content: \"\";position: absolute;border-left: 1px solid gray;box-sizing: border-box;top: 0;bottom: 0;left: 50%;z-index: -1;}#sk-container-id-2 div.sk-parallel-item {display: flex;flex-direction: column;z-index: 1;position: relative;background-color: white;}#sk-container-id-2 div.sk-parallel-item:first-child::after {align-self: flex-end;width: 50%;}#sk-container-id-2 div.sk-parallel-item:last-child::after {align-self: flex-start;width: 50%;}#sk-container-id-2 div.sk-parallel-item:only-child::after {width: 0;}#sk-container-id-2 div.sk-dashed-wrapped {border: 1px dashed gray;margin: 0 0.4em 0.5em 0.4em;box-sizing: border-box;padding-bottom: 0.4em;background-color: white;}#sk-container-id-2 div.sk-label label {font-family: monospace;font-weight: bold;display: inline-block;line-height: 1.2em;}#sk-container-id-2 div.sk-label-container {text-align: center;}#sk-container-id-2 div.sk-container {/* jupyter's `normalize.less` sets `[hidden] { display: none; }` but bootstrap.min.css set `[hidden] { display: none !important; }` so we also need the `!important` here to be able to override the default hidden behavior on the sphinx rendered scikit-learn.org. See: https://github.com/scikit-learn/scikit-learn/issues/21755 */display: inline-block !important;position: relative;}#sk-container-id-2 div.sk-text-repr-fallback {display: none;}</style><div id=\"sk-container-id-2\" class=\"sk-top-container\"><div class=\"sk-text-repr-fallback\"><pre>RandomForestClassifier(n_estimators=250, n_jobs=-1)</pre><b>In a Jupyter environment, please rerun this cell to show the HTML representation or trust the notebook. <br />On GitHub, the HTML representation is unable to render, please try loading this page with nbviewer.org.</b></div><div class=\"sk-container\" hidden><div class=\"sk-item\"><div class=\"sk-estimator sk-toggleable\"><input class=\"sk-toggleable__control sk-hidden--visually\" id=\"sk-estimator-id-2\" type=\"checkbox\" checked><label for=\"sk-estimator-id-2\" class=\"sk-toggleable__label sk-toggleable__label-arrow\">RandomForestClassifier</label><div class=\"sk-toggleable__content\"><pre>RandomForestClassifier(n_estimators=250, n_jobs=-1)</pre></div></div></div></div></div>"
      ],
      "text/plain": [
       "RandomForestClassifier(n_estimators=250, n_jobs=-1)"
      ]
     },
     "execution_count": 89,
     "metadata": {},
     "output_type": "execute_result"
    }
   ],
   "source": [
    "rmf.fit(x_train,y_train)"
   ]
  },
  {
   "cell_type": "code",
   "execution_count": 90,
   "id": "cb4c78d1-4003-4490-b571-f42f07f1d89e",
   "metadata": {},
   "outputs": [],
   "source": [
    "y_pred=rmf.predict(x_test)"
   ]
  },
  {
   "cell_type": "code",
   "execution_count": 91,
   "id": "0ba6da8b-9fff-483b-b84b-917b7e8207f2",
   "metadata": {},
   "outputs": [
    {
     "data": {
      "text/plain": [
       "0.4007155635062612"
      ]
     },
     "execution_count": 91,
     "metadata": {},
     "output_type": "execute_result"
    }
   ],
   "source": [
    "accuracy_score(y_pred,y_test)"
   ]
  },
  {
   "cell_type": "code",
   "execution_count": 92,
   "id": "1d4139f1-0337-42ea-b4c8-6680daac7e9f",
   "metadata": {},
   "outputs": [
    {
     "data": {
      "text/plain": [
       "['model.pkl']"
      ]
     },
     "execution_count": 92,
     "metadata": {},
     "output_type": "execute_result"
    }
   ],
   "source": [
    "import joblib\n",
    "\n",
    "joblib.dump(rmf, \"model.pkl\")"
   ]
  },
  {
   "cell_type": "code",
   "execution_count": 93,
   "id": "045f2527-457e-4da1-9cf0-b10f4bda5715",
   "metadata": {},
   "outputs": [
    {
     "data": {
      "text/plain": [
       "Index(['size', 'cup size', 'bra size', 'category', 'length', 'fit',\n",
       "       'shoe size', 'shoe width'],\n",
       "      dtype='object')"
      ]
     },
     "execution_count": 93,
     "metadata": {},
     "output_type": "execute_result"
    }
   ],
   "source": [
    "x.columns"
   ]
  },
  {
   "cell_type": "code",
   "execution_count": 48,
   "id": "930b7040-d71e-4e98-acb5-c8f05909663b",
   "metadata": {},
   "outputs": [
    {
     "data": {
      "text/html": [
       "<div>\n",
       "<style scoped>\n",
       "    .dataframe tbody tr th:only-of-type {\n",
       "        vertical-align: middle;\n",
       "    }\n",
       "\n",
       "    .dataframe tbody tr th {\n",
       "        vertical-align: top;\n",
       "    }\n",
       "\n",
       "    .dataframe thead th {\n",
       "        text-align: right;\n",
       "    }\n",
       "</style>\n",
       "<table border=\"1\" class=\"dataframe\">\n",
       "  <thead>\n",
       "    <tr style=\"text-align: right;\">\n",
       "      <th></th>\n",
       "      <th>size</th>\n",
       "      <th>cup size</th>\n",
       "      <th>bra size</th>\n",
       "      <th>category</th>\n",
       "      <th>length</th>\n",
       "      <th>fit</th>\n",
       "      <th>shoe size</th>\n",
       "      <th>shoe width</th>\n",
       "    </tr>\n",
       "  </thead>\n",
       "  <tbody>\n",
       "    <tr>\n",
       "      <th>count</th>\n",
       "      <td>5586.000000</td>\n",
       "      <td>5586.000000</td>\n",
       "      <td>5586.000000</td>\n",
       "      <td>5586.000000</td>\n",
       "      <td>5586.000000</td>\n",
       "      <td>5586.000000</td>\n",
       "      <td>5586.000000</td>\n",
       "      <td>5586.000000</td>\n",
       "    </tr>\n",
       "    <tr>\n",
       "      <th>mean</th>\n",
       "      <td>9.694057</td>\n",
       "      <td>3.459363</td>\n",
       "      <td>34.717866</td>\n",
       "      <td>2.238811</td>\n",
       "      <td>0.403330</td>\n",
       "      <td>0.450233</td>\n",
       "      <td>7.988901</td>\n",
       "      <td>0.456319</td>\n",
       "    </tr>\n",
       "    <tr>\n",
       "      <th>std</th>\n",
       "      <td>5.047033</td>\n",
       "      <td>1.765545</td>\n",
       "      <td>1.938968</td>\n",
       "      <td>1.847519</td>\n",
       "      <td>0.793471</td>\n",
       "      <td>0.734940</td>\n",
       "      <td>1.230601</td>\n",
       "      <td>0.783199</td>\n",
       "    </tr>\n",
       "    <tr>\n",
       "      <th>min</th>\n",
       "      <td>0.000000</td>\n",
       "      <td>0.000000</td>\n",
       "      <td>32.000000</td>\n",
       "      <td>0.000000</td>\n",
       "      <td>0.000000</td>\n",
       "      <td>0.000000</td>\n",
       "      <td>5.000000</td>\n",
       "      <td>0.000000</td>\n",
       "    </tr>\n",
       "    <tr>\n",
       "      <th>25%</th>\n",
       "      <td>6.000000</td>\n",
       "      <td>2.000000</td>\n",
       "      <td>34.000000</td>\n",
       "      <td>1.000000</td>\n",
       "      <td>0.000000</td>\n",
       "      <td>0.000000</td>\n",
       "      <td>7.000000</td>\n",
       "      <td>0.000000</td>\n",
       "    </tr>\n",
       "    <tr>\n",
       "      <th>50%</th>\n",
       "      <td>8.000000</td>\n",
       "      <td>3.000000</td>\n",
       "      <td>34.000000</td>\n",
       "      <td>2.000000</td>\n",
       "      <td>0.000000</td>\n",
       "      <td>0.000000</td>\n",
       "      <td>8.000000</td>\n",
       "      <td>0.000000</td>\n",
       "    </tr>\n",
       "    <tr>\n",
       "      <th>75%</th>\n",
       "      <td>12.000000</td>\n",
       "      <td>5.000000</td>\n",
       "      <td>36.000000</td>\n",
       "      <td>4.000000</td>\n",
       "      <td>1.000000</td>\n",
       "      <td>1.000000</td>\n",
       "      <td>9.000000</td>\n",
       "      <td>1.000000</td>\n",
       "    </tr>\n",
       "    <tr>\n",
       "      <th>max</th>\n",
       "      <td>26.000000</td>\n",
       "      <td>11.000000</td>\n",
       "      <td>38.000000</td>\n",
       "      <td>6.000000</td>\n",
       "      <td>4.000000</td>\n",
       "      <td>2.000000</td>\n",
       "      <td>11.500000</td>\n",
       "      <td>2.000000</td>\n",
       "    </tr>\n",
       "  </tbody>\n",
       "</table>\n",
       "</div>"
      ],
      "text/plain": [
       "              size     cup size     bra size     category       length  \\\n",
       "count  5586.000000  5586.000000  5586.000000  5586.000000  5586.000000   \n",
       "mean      9.694057     3.459363    34.717866     2.238811     0.403330   \n",
       "std       5.047033     1.765545     1.938968     1.847519     0.793471   \n",
       "min       0.000000     0.000000    32.000000     0.000000     0.000000   \n",
       "25%       6.000000     2.000000    34.000000     1.000000     0.000000   \n",
       "50%       8.000000     3.000000    34.000000     2.000000     0.000000   \n",
       "75%      12.000000     5.000000    36.000000     4.000000     1.000000   \n",
       "max      26.000000    11.000000    38.000000     6.000000     4.000000   \n",
       "\n",
       "               fit    shoe size   shoe width  \n",
       "count  5586.000000  5586.000000  5586.000000  \n",
       "mean      0.450233     7.988901     0.456319  \n",
       "std       0.734940     1.230601     0.783199  \n",
       "min       0.000000     5.000000     0.000000  \n",
       "25%       0.000000     7.000000     0.000000  \n",
       "50%       0.000000     8.000000     0.000000  \n",
       "75%       1.000000     9.000000     1.000000  \n",
       "max       2.000000    11.500000     2.000000  "
      ]
     },
     "execution_count": 48,
     "metadata": {},
     "output_type": "execute_result"
    }
   ],
   "source": [
    "x.describe()"
   ]
  },
  {
   "cell_type": "code",
   "execution_count": null,
   "id": "41f6009f-876e-466a-b1ed-336bfac2d24b",
   "metadata": {},
   "outputs": [],
   "source": []
  }
 ],
 "metadata": {
  "kernelspec": {
   "display_name": "Python 3 (ipykernel)",
   "language": "python",
   "name": "python3"
  },
  "language_info": {
   "codemirror_mode": {
    "name": "ipython",
    "version": 3
   },
   "file_extension": ".py",
   "mimetype": "text/x-python",
   "name": "python",
   "nbconvert_exporter": "python",
   "pygments_lexer": "ipython3",
   "version": "3.12.1"
  }
 },
 "nbformat": 4,
 "nbformat_minor": 5
}
